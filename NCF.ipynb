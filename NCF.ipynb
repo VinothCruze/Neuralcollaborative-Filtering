{
  "nbformat": 4,
  "nbformat_minor": 0,
  "metadata": {
    "colab": {
      "provenance": []
    },
    "kernelspec": {
      "name": "python3",
      "display_name": "Python 3"
    },
    "language_info": {
      "name": "python"
    }
  },
  "cells": [
    {
      "cell_type": "code",
      "execution_count": null,
      "metadata": {
        "id": "f0Hh4UeZRzcz"
      },
      "outputs": [],
      "source": [
        "import tensorflow as tf\n",
        "import numpy as np\n",
        "\n",
        "# Define the dummy dataset\n",
        "num_users = 1000\n",
        "num_items = 500\n",
        "latent_dim = 8\n",
        "num_factors = 8\n",
        "mlp_layer_sizes = [64, 32, 16, 8]\n",
        "regs = [0.01, 0.01, 0.01, 0.01]\n",
        "\n",
        "user_input = np.random.randint(num_users, size=(10000,))\n",
        "item_input = np.random.randint(num_items, size=(10000,))\n",
        "ratings = np.random.randint(2, size=(10000,))\n",
        "\n",
        "\n",
        "\n"
      ]
    },
    {
      "cell_type": "code",
      "source": [
        "# Define the NeuMF model\n",
        "class NeuMF(tf.keras.Model):\n",
        "    def __init__(self, num_users, num_items, latent_dim, num_factors, mlp_layer_sizes, regs):\n",
        "        super(NeuMF, self).__init__()\n",
        "\n",
        "        self.user_embedding = tf.keras.layers.Embedding(num_users, latent_dim)\n",
        "        self.item_embedding = tf.keras.layers.Embedding(num_items, latent_dim)\n",
        "        self.flatten = tf.keras.layers.Flatten()\n",
        "\n",
        "        # Matrix Factorization component\n",
        "        self.GMF = tf.keras.layers.Dot(axes=1)\n",
        "\n",
        "        # Multilayer Perceptron component\n",
        "        self.MLP = tf.keras.Sequential()\n",
        "        for i in range(len(mlp_layer_sizes)):\n",
        "            self.MLP.add(tf.keras.layers.Dense(mlp_layer_sizes[i], activation='relu',\n",
        "                                               kernel_regularizer=tf.keras.regularizers.l2(regs[i])))\n",
        "        self.concat = tf.keras.layers.Concatenate()\n",
        "        self.prediction = tf.keras.layers.Dense(1, activation='sigmoid')\n",
        "\n",
        "    def call(self, inputs):\n",
        "        user_input, item_input = inputs\n",
        "        user_embedded = self.flatten(self.user_embedding(user_input))\n",
        "        item_embedded = self.flatten(self.item_embedding(item_input))\n",
        "\n",
        "        # Apply matrix factorization\n",
        "        GMF_output = self.GMF([user_embedded, item_embedded])\n",
        "\n",
        "        # Apply multilayer perceptron\n",
        "        MLP_input = tf.concat([user_embedded, item_embedded], axis=-1)\n",
        "        MLP_output = self.MLP(MLP_input)\n",
        "\n",
        "        # Combine the results\n",
        "        combined_output = self.concat([GMF_output, MLP_output])\n",
        "        prediction = self.prediction(combined_output)\n",
        "        \n",
        "        return prediction\n",
        "\n",
        "\n"
      ],
      "metadata": {
        "id": "cjd5pfk3R6Lr"
      },
      "execution_count": null,
      "outputs": []
    },
    {
      "cell_type": "code",
      "source": [
        "model = NeuMF(num_users, num_items, latent_dim, num_factors, mlp_layer_sizes, regs)\n",
        "model.compile(optimizer='adam', loss='binary_crossentropy')\n",
        "# Fit the model\n",
        "model.fit([user_input, item_input], ratings, batch_size=256, epochs=10, verbose=1)\n",
        "\n"
      ],
      "metadata": {
        "colab": {
          "base_uri": "https://localhost:8080/"
        },
        "id": "XKxpUXMNR-Dt",
        "outputId": "3dd00a32-a618-4816-9108-ca9983d97a3f"
      },
      "execution_count": null,
      "outputs": [
        {
          "output_type": "stream",
          "name": "stdout",
          "text": [
            "Epoch 1/10\n",
            "40/40 [==============================] - 4s 9ms/step - loss: 1.5296\n",
            "Epoch 2/10\n",
            "40/40 [==============================] - 0s 10ms/step - loss: 1.2340\n",
            "Epoch 3/10\n",
            "40/40 [==============================] - 0s 11ms/step - loss: 1.0395\n",
            "Epoch 4/10\n",
            "40/40 [==============================] - 0s 7ms/step - loss: 0.9133\n",
            "Epoch 5/10\n",
            "40/40 [==============================] - 0s 8ms/step - loss: 0.8324\n",
            "Epoch 6/10\n",
            "40/40 [==============================] - 0s 11ms/step - loss: 0.7808\n",
            "Epoch 7/10\n",
            "40/40 [==============================] - 0s 9ms/step - loss: 0.7483\n",
            "Epoch 8/10\n",
            "40/40 [==============================] - 0s 10ms/step - loss: 0.7274\n",
            "Epoch 9/10\n",
            "40/40 [==============================] - 0s 10ms/step - loss: 0.7136\n",
            "Epoch 10/10\n",
            "40/40 [==============================] - 0s 9ms/step - loss: 0.7034\n"
          ]
        },
        {
          "output_type": "execute_result",
          "data": {
            "text/plain": [
              "<keras.callbacks.History at 0x7fb1941aeb80>"
            ]
          },
          "metadata": {},
          "execution_count": 3
        }
      ]
    },
    {
      "cell_type": "code",
      "source": [
        "# Use the model to make predictions on new data\n",
        "new_user_input = np.random.randint(num_users, size=(5,))\n",
        "new_item_input = np.random.randint(num_items, size=(5,))\n",
        "predictions = model.predict([new_user_input, new_item_input])\n",
        "\n",
        "print(\"Predictions: \", predictions)\n",
        "\n"
      ],
      "metadata": {
        "colab": {
          "base_uri": "https://localhost:8080/"
        },
        "id": "jSl7ATuYSAoZ",
        "outputId": "e333244f-1479-4126-9378-57a5715b506f"
      },
      "execution_count": null,
      "outputs": [
        {
          "output_type": "stream",
          "name": "stdout",
          "text": [
            "1/1 [==============================] - 0s 137ms/step\n",
            "Predictions:  [[0.50010383]\n",
            " [0.49431133]\n",
            " [0.49494052]\n",
            " [0.49084303]\n",
            " [0.49379194]]\n"
          ]
        }
      ]
    },
    {
      "cell_type": "code",
      "source": [
        "from sklearn.model_selection import train_test_split\n",
        "from sklearn.metrics import mean_squared_error\n",
        "\n",
        "# Split the data into training and testing sets\n",
        "train_user_input, test_user_input, train_item_input, test_item_input, train_ratings, test_ratings = train_test_split(user_input, item_input, ratings, test_size=0.2)\n",
        "\n",
        "# Fit the model on the training set\n",
        "model.fit([train_user_input, train_item_input], train_ratings, batch_size=256, epochs=10, verbose=1)\n",
        "\n",
        "# Make predictions on the test set\n",
        "predictions = model.predict([test_user_input, test_item_input])\n",
        "\n",
        "# Calculate the RMSE\n",
        "rmse = np.sqrt(mean_squared_error(test_ratings, predictions))\n",
        "\n",
        "print(\"RMSE: \", rmse)"
      ],
      "metadata": {
        "colab": {
          "base_uri": "https://localhost:8080/"
        },
        "id": "uJy6frITSC6v",
        "outputId": "6fa08fdb-d68d-453d-c127-ab2b073ad92f"
      },
      "execution_count": null,
      "outputs": [
        {
          "output_type": "stream",
          "name": "stdout",
          "text": [
            "Epoch 1/10\n",
            "32/32 [==============================] - 0s 3ms/step - loss: 0.6953\n",
            "Epoch 2/10\n",
            "32/32 [==============================] - 0s 4ms/step - loss: 0.6876\n",
            "Epoch 3/10\n",
            "32/32 [==============================] - 0s 3ms/step - loss: 0.6790\n",
            "Epoch 4/10\n",
            "32/32 [==============================] - 0s 3ms/step - loss: 0.6688\n",
            "Epoch 5/10\n",
            "32/32 [==============================] - 0s 3ms/step - loss: 0.6569\n",
            "Epoch 6/10\n",
            "32/32 [==============================] - 0s 3ms/step - loss: 0.6432\n",
            "Epoch 7/10\n",
            "32/32 [==============================] - 0s 3ms/step - loss: 0.6275\n",
            "Epoch 8/10\n",
            "32/32 [==============================] - 0s 3ms/step - loss: 0.6102\n",
            "Epoch 9/10\n",
            "32/32 [==============================] - 0s 4ms/step - loss: 0.5913\n",
            "Epoch 10/10\n",
            "32/32 [==============================] - 0s 6ms/step - loss: 0.5712\n",
            "63/63 [==============================] - 0s 3ms/step\n",
            "RMSE:  0.47471766967871126\n"
          ]
        }
      ]
    }
  ]
}